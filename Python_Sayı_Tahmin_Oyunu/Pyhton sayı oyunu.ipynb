{
 "cells": [
  {
   "cell_type": "code",
   "execution_count": 5,
   "metadata": {},
   "outputs": [],
   "source": [
    "import random\n",
    "import time\n"
   ]
  },
  {
   "cell_type": "code",
   "execution_count": 8,
   "metadata": {},
   "outputs": [
    {
     "name": "stdout",
     "output_type": "stream",
     "text": [
      "**************************\n",
      "Sayı Tahmin Oyunu 1 ile 40 arasında sayı seçin\n",
      "\n",
      "****************\n",
      "\n"
     ]
    }
   ],
   "source": [
    "print(\"\"\"**************************\n",
    "Sayı Tahmin Oyunu 1 ile 40 arasında sayı seçin\n",
    "\n",
    "****************\n",
    "\"\"\")\n",
    "\n",
    "#rastgele_sayi olaeak isimlendiriyoruz ve random  kütüphanesindeki randint fonksiyonunu kullanırız\n",
    "\n",
    "rastgele_sayi=random.randint(1,40)\n",
    "tahmin_hakki=7 \n",
    "#tahmin hakkı 7 dedik ve while döngüsü başlattık. tahmin hakkı bitince while döngüsü  de biticek.\n",
    "\n"
   ]
  },
  {
   "cell_type": "code",
   "execution_count": 13,
   "metadata": {},
   "outputs": [
    {
     "name": "stdout",
     "output_type": "stream",
     "text": [
      "tahmininiz:5\n",
      "Bilgiler sorgulanıyor\n",
      "tahmininizde daha yüksek bir sayı bu\n",
      "tahmininiz:30\n",
      "Bilgiler sorgulanıyor\n",
      "tahmininizde daha yüksek bir sayı bu\n",
      "tahmininiz:40\n",
      "Bilgiler sorgulanıyor\n",
      "tahmininizde daha düşük bir sayı bu\n",
      "tahmininiz:39\n",
      "Bilgiler sorgulanıyor\n",
      "tahmininizde daha düşük bir sayı bu\n",
      "tahmininiz:35\n",
      "Bilgiler sorgulanıyor\n",
      "tahmininizde daha düşük bir sayı bu\n",
      "tahmininiz:31\n",
      "Bilgiler sorgulanıyor\n",
      "tebrikler bildiniz\n"
     ]
    }
   ],
   "source": [
    "while True:\n",
    "    tahmin=int(input(\"tahmininiz:\")) \n",
    "   # burada kullalncıdan tahminini almak için input dedik ve  int değişkenine atadık.Ve if değişkeni ile \n",
    "   # bu tahminin, bizim gridğimiz tahmini değişkene eşit olup olmadığını sorgularız.\"\"\"\n",
    "    \n",
    "    if(tahmin<rastgele_sayi):\n",
    "        print(\"Bilgiler sorgulanıyor\")\n",
    "        time.sleep(1)\n",
    "        # burada 1 saniye durduk,tamamen şov olarak \"\"\"\n",
    "        print(\"tahmininizde daha yüksek bir sayı bu\")\n",
    "            \n",
    "        tahmin_hakki-=1\n",
    "            \n",
    "         \n",
    "            \n",
    "           # burada tahmin hakkımızda bir tanesi gitti\"\"\"\n",
    "            \n",
    "    elif(tahmin>rastgele_sayi):\n",
    "        \n",
    "    \n",
    "        print(\"Bilgiler sorgulanıyor\")\n",
    "        time.sleep(1)\n",
    "        #\"\"\" burada 1 saniye durduk,tamamen şov olarak \"\"\"\n",
    "        print(\"tahmininizde daha düşük bir sayı bu\")\n",
    "        tahmin_hakki-=1\n",
    "            \n",
    "         \n",
    "    \n",
    "    else:\n",
    "        \n",
    "        #\"\"\" yani bu sayını doğru tahmin edilme durmunda\"\"\"\n",
    "        \n",
    "        print(\"Bilgiler sorgulanıyor\")\n",
    "        time.sleep(1)\n",
    "        print(\"tebrikler bildiniz\")\n",
    "        break \n",
    "       # \"\"\" break diyorum çünkü oyundan çıkması lazım\"\"\"\n",
    "        \n",
    "    if(tahmin_hakki==0):\n",
    "        print(\"tahmin hakkınız bitti\")\n",
    "        print(\"sayımız:\",rastgele_sayi)\n",
    "        break\n",
    "        \n",
    "         "
   ]
  },
  {
   "cell_type": "code",
   "execution_count": null,
   "metadata": {},
   "outputs": [],
   "source": []
  }
 ],
 "metadata": {
  "kernelspec": {
   "display_name": "Python 3",
   "language": "python",
   "name": "python3"
  },
  "language_info": {
   "codemirror_mode": {
    "name": "ipython",
    "version": 3
   },
   "file_extension": ".py",
   "mimetype": "text/x-python",
   "name": "python",
   "nbconvert_exporter": "python",
   "pygments_lexer": "ipython3",
   "version": "3.8.5"
  }
 },
 "nbformat": 4,
 "nbformat_minor": 4
}
